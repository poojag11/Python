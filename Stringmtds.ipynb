{
 "cells": [
  {
   "cell_type": "markdown",
   "id": "ddf5e559-358b-4493-b1a7-90ef4e065b6c",
   "metadata": {},
   "source": [
    "### Build-In String Methods"
   ]
  },
  {
   "cell_type": "code",
   "execution_count": 66,
   "id": "e1230f08-6812-4c99-8071-50e0eb07aee3",
   "metadata": {},
   "outputs": [
    {
     "name": "stdout",
     "output_type": "stream",
     "text": [
      "hello, & welcome to the Python class.\n"
     ]
    }
   ],
   "source": [
    "Str1='hello, & welcome to the Python class.'\n",
    "print(Str1)"
   ]
  },
  {
   "cell_type": "markdown",
   "id": "8c9cdb7f-d53f-4e06-a948-007b422f23e1",
   "metadata": {},
   "source": [
    "#### capitalize()"
   ]
  },
  {
   "cell_type": "code",
   "execution_count": 104,
   "id": "a998c5db-ac69-444f-8ac0-6e024443d0ff",
   "metadata": {},
   "outputs": [
    {
     "name": "stdout",
     "output_type": "stream",
     "text": [
      "It capitalizes firt letter in a string.\n"
     ]
    }
   ],
   "source": [
    "Str2='it capitalizes firt letter in a string.'\n",
    "a=Str2.capitalize()\n",
    "print(a)"
   ]
  },
  {
   "cell_type": "code",
   "execution_count": 105,
   "id": "d4ecb4f4-deb8-43d2-b52d-a1d75673305d",
   "metadata": {},
   "outputs": [
    {
     "name": "stdout",
     "output_type": "stream",
     "text": [
      "It capitalizes firt letter in a string.\n"
     ]
    }
   ],
   "source": [
    "Str2='it capitalizes firt letter in a string.'\n",
    "print(Str2.capitalize())"
   ]
  },
  {
   "cell_type": "markdown",
   "id": "ff2e9385-6c4a-444a-bd2d-ccbe947ea7ed",
   "metadata": {},
   "source": [
    "#### casefold()"
   ]
  },
  {
   "cell_type": "code",
   "execution_count": 106,
   "id": "2a136f44-d272-49e6-aa98-45f26fe08bff",
   "metadata": {},
   "outputs": [
    {
     "name": "stdout",
     "output_type": "stream",
     "text": [
      "it returns a string where all characters are in lower case\n"
     ]
    }
   ],
   "source": [
    "Str3='It Returns A String Where All Characters Are In Lower Case'\n",
    "print(Str3.casefold())"
   ]
  },
  {
   "cell_type": "markdown",
   "id": "d7801579-107a-4df3-9956-4f1bed5c7889",
   "metadata": {},
   "source": [
    "#### center()"
   ]
  },
  {
   "cell_type": "code",
   "execution_count": 70,
   "id": "2aaa321d-4166-4461-acbc-9e7c0f5b36d1",
   "metadata": {},
   "outputs": [
    {
     "name": "stdout",
     "output_type": "stream",
     "text": [
      "       Python       \n"
     ]
    }
   ],
   "source": [
    "Str4='Python'\n",
    "print(Str4.center(20))"
   ]
  },
  {
   "cell_type": "markdown",
   "id": "195262df-bcdf-490a-a3db-4e55d480bf75",
   "metadata": {},
   "source": [
    "#### count()"
   ]
  },
  {
   "cell_type": "code",
   "execution_count": 107,
   "id": "1eaafaa7-204d-40de-b3be-b8215ab9c95f",
   "metadata": {},
   "outputs": [
    {
     "name": "stdout",
     "output_type": "stream",
     "text": [
      "3\n"
     ]
    }
   ],
   "source": [
    "Str5='It returns number of times a specified value occurs in a string.'\n",
    "x=Str5.count('a')\n",
    "print(x)"
   ]
  },
  {
   "cell_type": "markdown",
   "id": "3aaf0217-0fa1-454b-85f0-c633bc62c735",
   "metadata": {},
   "source": [
    "#### encode()"
   ]
  },
  {
   "cell_type": "code",
   "execution_count": 72,
   "id": "c9aba5fb-c8f0-4461-985c-be635810a9eb",
   "metadata": {},
   "outputs": [
    {
     "name": "stdout",
     "output_type": "stream",
     "text": [
      "b'Lets learn about enc\\\\xf2de() method'\n",
      "b'Lets learn about encde() method'\n",
      "b'Lets learn about enc\\\\N{LATIN SMALL LETTER O WITH GRAVE}de() method'\n",
      "b'Lets learn about enc?de() method'\n",
      "b'Lets learn about enc&#242;de() method'\n"
     ]
    }
   ],
   "source": [
    "Str6='Lets learn about encòde() method'\n",
    "print(Str6.encode(encoding=\"ascii\",errors=\"backslashreplace\"))\n",
    "print(Str6.encode(encoding=\"ascii\",errors=\"ignore\"))\n",
    "print(Str6.encode(encoding=\"ascii\",errors=\"namereplace\"))\n",
    "print(Str6.encode(encoding=\"ascii\",errors=\"replace\"))\n",
    "print(Str6.encode(encoding=\"ascii\",errors=\"xmlcharrefreplace\"))"
   ]
  },
  {
   "cell_type": "markdown",
   "id": "05758caa-e72f-4b19-a392-856e381fab79",
   "metadata": {},
   "source": [
    "#### endswith()"
   ]
  },
  {
   "cell_type": "code",
   "execution_count": 108,
   "id": "cae42b18-6b33-41af-8f35-52fef8c80274",
   "metadata": {},
   "outputs": [
    {
     "name": "stdout",
     "output_type": "stream",
     "text": [
      "True\n"
     ]
    }
   ],
   "source": [
    "Str7='Does this sentence ends with?'\n",
    "x=Str7.endswith(\"?\")\n",
    "print(x)"
   ]
  },
  {
   "cell_type": "markdown",
   "id": "f3f1bb4c-4c4c-4d21-985c-43404ffff815",
   "metadata": {},
   "source": [
    "#### expandtabs()"
   ]
  },
  {
   "cell_type": "code",
   "execution_count": 74,
   "id": "01223f36-3b1e-4e9d-b51b-ebfb2a8b6c2b",
   "metadata": {},
   "outputs": [
    {
     "name": "stdout",
     "output_type": "stream",
     "text": [
      "H e l l o\n",
      "H       e       l       l       o\n"
     ]
    }
   ],
   "source": [
    "Str8='H\\te\\tl\\tl\\to'\n",
    "x=Str8.expandtabs(2)\n",
    "print(x)\n",
    "print(Str8.expandtabs())"
   ]
  },
  {
   "cell_type": "markdown",
   "id": "19d1a5d6-bf38-456e-af45-bace8c37333a",
   "metadata": {},
   "source": [
    "#### find()"
   ]
  },
  {
   "cell_type": "code",
   "execution_count": 109,
   "id": "db356915-a069-4635-9ca7-42964642d4ed",
   "metadata": {},
   "outputs": [
    {
     "name": "stdout",
     "output_type": "stream",
     "text": [
      "22\n"
     ]
    }
   ],
   "source": [
    "Str9='This is python string find() method'\n",
    "x=Str9.find('find()')\n",
    "print(x)"
   ]
  },
  {
   "cell_type": "markdown",
   "id": "9206fc3e-f6cf-4e27-a132-dc82b5fa3387",
   "metadata": {},
   "source": [
    "#### format()"
   ]
  },
  {
   "cell_type": "code",
   "execution_count": 110,
   "id": "21860354-3110-4e0c-8f02-26dc441e6894",
   "metadata": {},
   "outputs": [
    {
     "name": "stdout",
     "output_type": "stream",
     "text": [
      "My clock shows 24 hours time format\n"
     ]
    }
   ],
   "source": [
    "Str10='My clock shows {number} hours time format'\n",
    "print(Str10.format(number=24))"
   ]
  },
  {
   "cell_type": "markdown",
   "id": "44feeea8-ad39-4c1d-9682-088c78929921",
   "metadata": {},
   "source": [
    "#### index()"
   ]
  },
  {
   "cell_type": "code",
   "execution_count": 81,
   "id": "387a51f8-6d8b-4c7f-96ba-1d9641a1727c",
   "metadata": {},
   "outputs": [
    {
     "name": "stdout",
     "output_type": "stream",
     "text": [
      "41\n"
     ]
    }
   ],
   "source": [
    "Str11='index() method is almost same as find(), except find() method returns -1 if the value is not found.'\n",
    "x=Str11.index('except')\n",
    "print(x)"
   ]
  },
  {
   "cell_type": "markdown",
   "id": "f9b8884b-7f6d-43f2-8fff-4f798366a8b6",
   "metadata": {},
   "source": [
    "#### isalnum()"
   ]
  },
  {
   "cell_type": "code",
   "execution_count": 79,
   "id": "12963fed-1d5c-4bf2-af28-946f2c428214",
   "metadata": {},
   "outputs": [
    {
     "name": "stdout",
     "output_type": "stream",
     "text": [
      "True\n"
     ]
    }
   ],
   "source": [
    "Str12='Rank11'\n",
    "print(Str12.isalnum())"
   ]
  },
  {
   "cell_type": "markdown",
   "id": "fc7bf108-80ca-41be-b4a4-0bbdde5900fc",
   "metadata": {},
   "source": [
    "#### isalpha()"
   ]
  },
  {
   "cell_type": "code",
   "execution_count": 82,
   "id": "e1d13b10-1d72-4b26-9212-b085b5357c19",
   "metadata": {},
   "outputs": [
    {
     "name": "stdout",
     "output_type": "stream",
     "text": [
      "True\n"
     ]
    }
   ],
   "source": [
    "Str13='Python'\n",
    "print(Str13.isalpha())"
   ]
  },
  {
   "cell_type": "markdown",
   "id": "04f84d29-bf15-4659-864d-90f4c2986136",
   "metadata": {},
   "source": [
    "#### isascii()"
   ]
  },
  {
   "cell_type": "code",
   "execution_count": 83,
   "id": "79d14691-ffb9-4a6f-85a4-78b9ae0d7b62",
   "metadata": {},
   "outputs": [
    {
     "name": "stdout",
     "output_type": "stream",
     "text": [
      "True\n"
     ]
    }
   ],
   "source": [
    "Str14='Rank21'\n",
    "print(Str14.isascii())"
   ]
  },
  {
   "cell_type": "markdown",
   "id": "60f6df4c-a2d9-48ee-8b17-8b345b4fa3c3",
   "metadata": {},
   "source": [
    "#### isdecimal()"
   ]
  },
  {
   "cell_type": "code",
   "execution_count": 85,
   "id": "a8930805-32e1-4f7d-baae-837874ec6ff7",
   "metadata": {},
   "outputs": [
    {
     "name": "stdout",
     "output_type": "stream",
     "text": [
      "True\n"
     ]
    }
   ],
   "source": [
    "Str15='12565'\n",
    "print(Str15.isdecimal())"
   ]
  },
  {
   "cell_type": "markdown",
   "id": "c62943ec-5548-4171-b051-99c2879b8f2d",
   "metadata": {},
   "source": [
    "#### isidentifier()"
   ]
  },
  {
   "cell_type": "code",
   "execution_count": 88,
   "id": "effbdbe6-bdcb-4c9a-8bab-96261640d731",
   "metadata": {},
   "outputs": [
    {
     "name": "stdout",
     "output_type": "stream",
     "text": [
      "False\n",
      "True\n"
     ]
    }
   ],
   "source": [
    "Str16='This method finds whether string is valid or not'\n",
    "Str17='valid'\n",
    "print(Str16.isidentifier())\n",
    "print(Str17.isidentifier())"
   ]
  },
  {
   "cell_type": "markdown",
   "id": "013d8457-cb81-489c-83be-c2830e3316ac",
   "metadata": {},
   "source": [
    "#### islower()"
   ]
  },
  {
   "cell_type": "code",
   "execution_count": 90,
   "id": "91b0d0e6-0ea2-4e08-a1ce-8e4a076b483c",
   "metadata": {},
   "outputs": [
    {
     "name": "stdout",
     "output_type": "stream",
     "text": [
      "True\n"
     ]
    }
   ],
   "source": [
    "Str18='hey! there'\n",
    "print(Str18.islower())"
   ]
  },
  {
   "cell_type": "markdown",
   "id": "3a32889d-b2b7-49a4-b9fd-a4d440d4c323",
   "metadata": {},
   "source": [
    "#### isnumeric()"
   ]
  },
  {
   "cell_type": "code",
   "execution_count": 92,
   "id": "e3d89dc0-ed7d-4a95-9c5e-968f2ee5eb44",
   "metadata": {},
   "outputs": [
    {
     "name": "stdout",
     "output_type": "stream",
     "text": [
      "True\n"
     ]
    }
   ],
   "source": [
    "Str18='123456'\n",
    "print(Str18.isnumeric())"
   ]
  },
  {
   "cell_type": "markdown",
   "id": "928730ad-ed08-4bb6-ac98-3a3080564485",
   "metadata": {},
   "source": [
    "#### isprintable()"
   ]
  },
  {
   "cell_type": "code",
   "execution_count": 97,
   "id": "e442ec48-4e15-49f7-94d2-d4da281a1178",
   "metadata": {},
   "outputs": [
    {
     "name": "stdout",
     "output_type": "stream",
     "text": [
      "False\n",
      "True\n"
     ]
    }
   ],
   "source": [
    "Str20='is i\\nt printable #/?'\n",
    "Str21='is it printable ?'\n",
    "print(Str20.isprintable())\n",
    "print(Str21.isprintable())"
   ]
  },
  {
   "cell_type": "markdown",
   "id": "9253c311-486c-4a61-94ff-ab78a6678ba6",
   "metadata": {},
   "source": [
    "#### isspace()"
   ]
  },
  {
   "cell_type": "code",
   "execution_count": 101,
   "id": "6f735d6a-3d53-4901-91e4-4b07ced7cd31",
   "metadata": {},
   "outputs": [
    {
     "name": "stdout",
     "output_type": "stream",
     "text": [
      "True\n",
      "False\n"
     ]
    }
   ],
   "source": [
    "Str22='  '\n",
    "Str23=' A '\n",
    "print(Str22.isspace())\n",
    "print(Str23.isspace())"
   ]
  },
  {
   "cell_type": "markdown",
   "id": "0fc752cd-fd1d-48f5-b400-dde149c49d5a",
   "metadata": {},
   "source": [
    "#### istitle()"
   ]
  },
  {
   "cell_type": "code",
   "execution_count": 158,
   "id": "9805874c-4f4b-4863-b000-b5f447232847",
   "metadata": {},
   "outputs": [
    {
     "name": "stdout",
     "output_type": "stream",
     "text": [
      "False\n",
      "True\n"
     ]
    }
   ],
   "source": [
    "Str24='Does every word in a sentence starts with a upper case letter'\n",
    "Str25='Does Every Word In A Sentence Starts With A Upper Case Letter'\n",
    "print(Str22.istitle())\n",
    "print(Str23.istitle())"
   ]
  },
  {
   "cell_type": "markdown",
   "id": "f27001c3-e7f6-4677-9788-b8e3a0b0533c",
   "metadata": {},
   "source": [
    "#### isupper()"
   ]
  },
  {
   "cell_type": "code",
   "execution_count": 111,
   "id": "215f021d-ad78-4de5-bf4a-84ddba118683",
   "metadata": {},
   "outputs": [
    {
     "name": "stdout",
     "output_type": "stream",
     "text": [
      "True\n"
     ]
    }
   ],
   "source": [
    "Str26='DOES ALL CHARACTERS ARE IN UPPER CASE ?'\n",
    "print(Str26.isupper())"
   ]
  },
  {
   "cell_type": "markdown",
   "id": "b6a9b68c-c4d2-4a69-bad9-7e9af92b0080",
   "metadata": {},
   "source": [
    "#### ljust()"
   ]
  },
  {
   "cell_type": "code",
   "execution_count": 113,
   "id": "948b36a4-f032-491b-acab-180568d85c80",
   "metadata": {},
   "outputs": [
    {
     "name": "stdout",
     "output_type": "stream",
     "text": [
      "Align                string to the left\n"
     ]
    }
   ],
   "source": [
    "Str27='Align'\n",
    "x=Str27.ljust(20)\n",
    "print(x,'string to the left')"
   ]
  },
  {
   "cell_type": "markdown",
   "id": "aa43bc48-5a50-4dbc-bc42-52ed1f10355f",
   "metadata": {},
   "source": [
    "#### lower()"
   ]
  },
  {
   "cell_type": "code",
   "execution_count": 115,
   "id": "76897152-5da1-4d26-925b-e5246eb88792",
   "metadata": {},
   "outputs": [
    {
     "name": "stdout",
     "output_type": "stream",
     "text": [
      "lets convert all characters in lower case.\n"
     ]
    }
   ],
   "source": [
    "Str28='Lets Convert All Characters In Lower Case.'\n",
    "print(Str28.lower())"
   ]
  },
  {
   "cell_type": "markdown",
   "id": "b51dd442-8327-461a-b720-5519d17ff235",
   "metadata": {},
   "source": [
    "#### lstrip()"
   ]
  },
  {
   "cell_type": "code",
   "execution_count": 119,
   "id": "330f6050-7eb7-44de-a6f0-02ca2c516281",
   "metadata": {},
   "outputs": [
    {
     "name": "stdout",
     "output_type": "stream",
     "text": [
      "Remove extra spaces from the left        side of the word\n"
     ]
    }
   ],
   "source": [
    "Str29='     left       '\n",
    "x=Str29.lstrip()\n",
    "print('Remove extra spaces from the',x,'side of the word')"
   ]
  },
  {
   "cell_type": "markdown",
   "id": "fddabce6-316c-49c5-84e2-b74012a8ee92",
   "metadata": {},
   "source": [
    "#### maketrans()"
   ]
  },
  {
   "cell_type": "code",
   "execution_count": 124,
   "id": "effdbd9a-76f8-4fff-bd8b-9d31c02a9315",
   "metadata": {},
   "outputs": [
    {
     "name": "stdout",
     "output_type": "stream",
     "text": [
      "Replace done\n",
      "Replace done\n"
     ]
    }
   ],
   "source": [
    "Str30='Replace this'\n",
    "x=str.maketrans('this','done')\n",
    "print(Str30.translate(x))\n",
    "print(Str30.translate(str.maketrans('this','done')))"
   ]
  },
  {
   "cell_type": "markdown",
   "id": "206d57bf-3393-4707-81d2-ecf4a80b551f",
   "metadata": {},
   "source": [
    "#### partition()"
   ]
  },
  {
   "cell_type": "code",
   "execution_count": 122,
   "id": "fbadcf66-ff73-493b-b074-ab864270084e",
   "metadata": {},
   "outputs": [
    {
     "name": "stdout",
     "output_type": "stream",
     "text": [
      "('Split ', 'this', ' sentence.')\n"
     ]
    }
   ],
   "source": [
    "Str31='Split this sentence.'\n",
    "print(Str31.partition('this'))"
   ]
  },
  {
   "cell_type": "markdown",
   "id": "d87c1237-46f7-4833-81d7-98b57cbc288a",
   "metadata": {},
   "source": [
    "#### replace()"
   ]
  },
  {
   "cell_type": "code",
   "execution_count": 155,
   "id": "2700b84d-12d8-4b8b-a890-4018d18720a1",
   "metadata": {},
   "outputs": [
    {
     "name": "stdout",
     "output_type": "stream",
     "text": [
      "Replace every occurence of none in a sentence with none.\n"
     ]
    }
   ],
   "source": [
    "Str32='Replace every occurence of word in a sentence with none.'\n",
    "print(Str32.replace('word','none'))"
   ]
  },
  {
   "cell_type": "markdown",
   "id": "ae51c865-6314-4ec1-b72b-d430b2a02c65",
   "metadata": {},
   "source": [
    "#### rfind()"
   ]
  },
  {
   "cell_type": "code",
   "execution_count": 126,
   "id": "1bf9ebbc-a90d-4973-97c6-794726ea8926",
   "metadata": {},
   "outputs": [
    {
     "name": "stdout",
     "output_type": "stream",
     "text": [
      "58\n"
     ]
    }
   ],
   "source": [
    "Str33='find last occurence of this word in a sentence containing this word'\n",
    "print(Str33.rfind('this word'))"
   ]
  },
  {
   "cell_type": "markdown",
   "id": "6e126cb1-f267-41b4-a917-35fe3f18c06a",
   "metadata": {},
   "source": [
    "#### rindex()"
   ]
  },
  {
   "cell_type": "code",
   "execution_count": 128,
   "id": "610f6609-2e59-4916-8526-d0e26db05c50",
   "metadata": {},
   "outputs": [
    {
     "name": "stdout",
     "output_type": "stream",
     "text": [
      "31\n"
     ]
    }
   ],
   "source": [
    "Str34='Could you find the position of find in this sentence ?'\n",
    "print(Str34.rindex('find'))"
   ]
  },
  {
   "cell_type": "markdown",
   "id": "758cbf42-b267-40c5-87a0-4e245287b9d4",
   "metadata": {},
   "source": [
    "#### rjust()"
   ]
  },
  {
   "cell_type": "code",
   "execution_count": 129,
   "id": "28fe6625-f09c-408c-b4d6-58ab2166ea15",
   "metadata": {},
   "outputs": [
    {
     "name": "stdout",
     "output_type": "stream",
     "text": [
      "               Align string to the right\n"
     ]
    }
   ],
   "source": [
    "Str35='Align'\n",
    "x=Str35.rjust(20)\n",
    "print(x,'string to the right')"
   ]
  },
  {
   "cell_type": "markdown",
   "id": "5108aba8-a08b-499e-bb6c-bc65ab4e8a90",
   "metadata": {},
   "source": [
    "#### rpartition()"
   ]
  },
  {
   "cell_type": "code",
   "execution_count": 133,
   "id": "5b71a0df-2a30-4883-83dd-a2668de9cb61",
   "metadata": {},
   "outputs": [
    {
     "name": "stdout",
     "output_type": "stream",
     "text": [
      "('split this sentence in a way that split occurs at the last occurence of the word ', 'split', '.')\n"
     ]
    }
   ],
   "source": [
    "Str36='split this sentence in a way that split occurs at the last occurence of the word split.'\n",
    "print(Str36.rpartition('split'))"
   ]
  },
  {
   "cell_type": "markdown",
   "id": "c07d3451-b79b-4a45-8966-312a15304f44",
   "metadata": {},
   "source": [
    "#### rsplit()"
   ]
  },
  {
   "cell_type": "code",
   "execution_count": 138,
   "id": "7cc0d4ce-4596-4588-a5ae-164cf02ade8a",
   "metadata": {},
   "outputs": [
    {
     "name": "stdout",
     "output_type": "stream",
     "text": [
      "['Excel', 'SQL', 'PoweBI', 'Tableau', 'Python']\n"
     ]
    }
   ],
   "source": [
    "Str37='Excel, SQL, PoweBI, Tableau, Python'\n",
    "print(Str37.rsplit(', '))"
   ]
  },
  {
   "cell_type": "markdown",
   "id": "d8feaabe-e8ce-449f-9ff7-511cc457d873",
   "metadata": {},
   "source": [
    "#### rstrip()"
   ]
  },
  {
   "cell_type": "code",
   "execution_count": 140,
   "id": "d9738730-2885-44a4-9f86-4cc0256cdb59",
   "metadata": {},
   "outputs": [
    {
     "name": "stdout",
     "output_type": "stream",
     "text": [
      "Lets move this    word to the right.\n"
     ]
    }
   ],
   "source": [
    "Str38='   word     '\n",
    "x=Str38.rstrip()\n",
    "print('Lets move this',x,'to the right.')"
   ]
  },
  {
   "cell_type": "markdown",
   "id": "9579f275-728b-4587-91d6-250e0dc8c64f",
   "metadata": {},
   "source": [
    "#### split()"
   ]
  },
  {
   "cell_type": "code",
   "execution_count": 141,
   "id": "0553095f-6f20-4e37-91dc-a2f0da5b2e7d",
   "metadata": {},
   "outputs": [
    {
     "name": "stdout",
     "output_type": "stream",
     "text": [
      "['Every', 'word', 'in', 'this', 'sentence', 'will', 'be', 'split', 'into', 'the', 'list', 'items']\n"
     ]
    }
   ],
   "source": [
    "Str39='Every word in this sentence will be split into the list items'\n",
    "print(Str39.split())"
   ]
  },
  {
   "cell_type": "markdown",
   "id": "2ec4d815-7939-4069-8c50-fc18b19e3b6a",
   "metadata": {},
   "source": [
    "#### splitlines()"
   ]
  },
  {
   "cell_type": "code",
   "execution_count": 143,
   "id": "bf3d1696-3ce5-4bb8-8c80-75b7cc738932",
   "metadata": {},
   "outputs": [
    {
     "name": "stdout",
     "output_type": "stream",
     "text": [
      "['Split a sentence into a list ', 'where each line is a list item.']\n"
     ]
    }
   ],
   "source": [
    "Str40='Split a sentence into a list \\nwhere each line is a list item.'\n",
    "print(Str40.splitlines())"
   ]
  },
  {
   "cell_type": "markdown",
   "id": "be47df18-d2e6-41d7-856f-26ee2c9ac9ae",
   "metadata": {},
   "source": [
    "#### startswith()"
   ]
  },
  {
   "cell_type": "code",
   "execution_count": 145,
   "id": "eb72972a-90de-4c22-bdad-a1cf45091dfc",
   "metadata": {},
   "outputs": [
    {
     "name": "stdout",
     "output_type": "stream",
     "text": [
      "True\n"
     ]
    }
   ],
   "source": [
    "Str41='Does this question starts with auxiliary verb does?'\n",
    "print(Str41.startswith('Does'))"
   ]
  },
  {
   "cell_type": "markdown",
   "id": "f2e7db9e-1df2-413e-8835-c78b28d67966",
   "metadata": {},
   "source": [
    "#### strip()"
   ]
  },
  {
   "cell_type": "code",
   "execution_count": 147,
   "id": "26961a80-670d-4e63-8efd-6ed49e213806",
   "metadata": {},
   "outputs": [
    {
     "name": "stdout",
     "output_type": "stream",
     "text": [
      "Remove spaces from right and left of the string.\n"
     ]
    }
   ],
   "source": [
    "Str42='  from   '\n",
    "x=Str42.strip()\n",
    "print('Remove spaces',x,'right and left of the word.' )"
   ]
  },
  {
   "cell_type": "markdown",
   "id": "ce004af4-8f86-444e-acd5-f236b4b5e98a",
   "metadata": {},
   "source": [
    "#### swapcase()"
   ]
  },
  {
   "cell_type": "code",
   "execution_count": 150,
   "id": "fae34c99-dab3-4e29-8883-34f240b924a7",
   "metadata": {},
   "outputs": [
    {
     "name": "stdout",
     "output_type": "stream",
     "text": [
      "lETS rEVERSE tHE cASE fOR eVERY sTRING.\n"
     ]
    }
   ],
   "source": [
    "Str43='Lets Reverse The Case For Every Word.'\n",
    "print(Str43.swapcase())"
   ]
  },
  {
   "cell_type": "markdown",
   "id": "56be3a21-e0f3-4da2-802b-e1476c5a51c8",
   "metadata": {},
   "source": [
    "#### title()"
   ]
  },
  {
   "cell_type": "code",
   "execution_count": 151,
   "id": "e9dc3f0f-d522-42fe-9d90-fe0cd8ebce39",
   "metadata": {},
   "outputs": [
    {
     "name": "stdout",
     "output_type": "stream",
     "text": [
      "It Returns Sentence With Every Word In Upper Case\n"
     ]
    }
   ],
   "source": [
    "Str44='It returns sentence with first letter of every word in upper case'\n",
    "print(Str44.title())"
   ]
  },
  {
   "cell_type": "markdown",
   "id": "b23a05d3-c380-415d-8202-d93ae2a61082",
   "metadata": {},
   "source": [
    "#### translate()"
   ]
  },
  {
   "cell_type": "markdown",
   "id": "7e90f098-c657-4aa7-a1b2-2d9b9e75958c",
   "metadata": {},
   "source": [
    "<!-- 67 & 82 are ASCII code for character C & R respectively-->"
   ]
  },
  {
   "cell_type": "code",
   "execution_count": 154,
   "id": "61fdb3bd-4f82-4c60-9457-080984c08e03",
   "metadata": {},
   "outputs": [
    {
     "name": "stdout",
     "output_type": "stream",
     "text": [
      "Rat\n"
     ]
    }
   ],
   "source": [
    "Str45={67: 82}\n",
    "x='Cat'\n",
    "print(x.translate(Str45))"
   ]
  },
  {
   "cell_type": "markdown",
   "id": "1c9a8f15-c482-4e8c-bee3-d0f8561d30ac",
   "metadata": {},
   "source": [
    "#### upper()"
   ]
  },
  {
   "cell_type": "code",
   "execution_count": 159,
   "id": "12d31040-0db6-4ed8-b18d-02dbf113f42a",
   "metadata": {},
   "outputs": [
    {
     "name": "stdout",
     "output_type": "stream",
     "text": [
      "THIS STRING CONTAINS EVERY CHARACTER IN UPPER CASE\n"
     ]
    }
   ],
   "source": [
    "Str46='This string contains every character in upper case'\n",
    "print(Str46.upper())"
   ]
  },
  {
   "cell_type": "markdown",
   "id": "74539530-51be-4ebc-a0ed-400d54408bc8",
   "metadata": {},
   "source": [
    "#### zfill()"
   ]
  },
  {
   "cell_type": "code",
   "execution_count": 160,
   "id": "173f2eca-411f-40a8-8066-0720a134fa1b",
   "metadata": {},
   "outputs": [
    {
     "name": "stdout",
     "output_type": "stream",
     "text": [
      "0000000012\n"
     ]
    }
   ],
   "source": [
    "Str47='12'\n",
    "print(Str47.zfill(10))"
   ]
  },
  {
   "cell_type": "markdown",
   "id": "f87dc3f3-12a3-41c9-8f3b-979bd895fc91",
   "metadata": {},
   "source": [
    "#### isdigit()"
   ]
  },
  {
   "cell_type": "code",
   "execution_count": 161,
   "id": "6ef0d70a-eecf-46d3-996a-e2d457ff2f8a",
   "metadata": {},
   "outputs": [
    {
     "name": "stdout",
     "output_type": "stream",
     "text": [
      "True\n"
     ]
    }
   ],
   "source": [
    "Str48='450000'\n",
    "print(Str48.isdigit())"
   ]
  },
  {
   "cell_type": "markdown",
   "id": "88c3e7b8-f404-4239-a912-0b8e4221b759",
   "metadata": {},
   "source": [
    "#### join()"
   ]
  },
  {
   "cell_type": "markdown",
   "id": "69f6b572-d336-4f62-bbc6-3ba04831de39",
   "metadata": {},
   "source": [
    "<!--Tuples are used to store multiple items in a single variable -->"
   ]
  },
  {
   "cell_type": "code",
   "execution_count": 165,
   "id": "f3c8f22a-7aba-4431-aca8-6c1a4d182582",
   "metadata": {},
   "outputs": [
    {
     "name": "stdout",
     "output_type": "stream",
     "text": [
      "Excel*Tableau*Python\n"
     ]
    }
   ],
   "source": [
    "mytuple=('Excel', 'Tableau', 'Python')\n",
    "x='*'.join(mytuple)\n",
    "print(x)"
   ]
  },
  {
   "cell_type": "code",
   "execution_count": null,
   "id": "09cb73cc-8e93-4308-9c46-8ac8ef5123bc",
   "metadata": {},
   "outputs": [],
   "source": []
  }
 ],
 "metadata": {
  "kernelspec": {
   "display_name": "Python 3 (ipykernel)",
   "language": "python",
   "name": "python3"
  },
  "language_info": {
   "codemirror_mode": {
    "name": "ipython",
    "version": 3
   },
   "file_extension": ".py",
   "mimetype": "text/x-python",
   "name": "python",
   "nbconvert_exporter": "python",
   "pygments_lexer": "ipython3",
   "version": "3.11.7"
  }
 },
 "nbformat": 4,
 "nbformat_minor": 5
}
