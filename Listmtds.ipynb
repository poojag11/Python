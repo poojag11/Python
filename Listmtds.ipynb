{
 "cells": [
  {
   "cell_type": "markdown",
   "id": "0cf2da48-0b22-48ab-80cd-b5caa2eefc5d",
   "metadata": {},
   "source": [
    "### Build-In List Methods"
   ]
  },
  {
   "cell_type": "markdown",
   "id": "720f883d-7df1-489b-972f-cfdbdd0ecb41",
   "metadata": {},
   "source": [
    "### append()"
   ]
  },
  {
   "cell_type": "markdown",
   "id": "2765931d-923c-4f74-bed1-2fa89a9af7c4",
   "metadata": {},
   "source": [
    "<!-- Adding single element at the end of the list-->"
   ]
  },
  {
   "cell_type": "code",
   "execution_count": 29,
   "id": "9ae278fa-f001-4ba6-aba9-b631c722739c",
   "metadata": {},
   "outputs": [
    {
     "name": "stdout",
     "output_type": "stream",
     "text": [
      "l1: ['Excel', 'SQL', 'PowerBI', 'Tableau', 'Python']\n"
     ]
    }
   ],
   "source": [
    "l1=['Excel', 'SQL', 'PowerBI', 'Tableau']\n",
    "l1.append('Python')\n",
    "print(f'l1: {l1}')"
   ]
  },
  {
   "cell_type": "markdown",
   "id": "ad9c83de-d232-4716-9026-9837708935f7",
   "metadata": {},
   "source": [
    "<!-- Adding list of elements at the end of the list-->"
   ]
  },
  {
   "cell_type": "code",
   "execution_count": 28,
   "id": "46dff78f-5d13-4397-874f-5d59b53e5fda",
   "metadata": {},
   "outputs": [
    {
     "name": "stdout",
     "output_type": "stream",
     "text": [
      "l1: ['Excel', 'SQL', 'PowerBI', 'Tableau', 'Python', ['Mongodb', 'Python'], ['Mongodb', 'Python']]\n"
     ]
    }
   ],
   "source": [
    "l2=['Mongodb', 'Python']\n",
    "l1.append(l2)\n",
    "print('l1:',l1)"
   ]
  },
  {
   "cell_type": "markdown",
   "id": "7660ff0b-b7b8-410d-ad63-3e97ece21e50",
   "metadata": {},
   "source": [
    "### clear()"
   ]
  },
  {
   "cell_type": "markdown",
   "id": "89b3de4c-cb3a-49ea-a9c6-5162740fa0f4",
   "metadata": {},
   "source": [
    "<!--Removing all the elements from the list-->"
   ]
  },
  {
   "cell_type": "code",
   "execution_count": 48,
   "id": "c07f2605-a0bf-4ce5-9954-b48afdacfbad",
   "metadata": {},
   "outputs": [
    {
     "name": "stdout",
     "output_type": "stream",
     "text": [
      "l3: []\n"
     ]
    }
   ],
   "source": [
    "l3=['String', 'Character', 'Number', 'Object']\n",
    "l3.clear( )\n",
    "print('l3:', l3)"
   ]
  },
  {
   "cell_type": "markdown",
   "id": "6a679c78-f744-4858-b60f-76ae0c26eaa8",
   "metadata": {},
   "source": [
    "### copy( )"
   ]
  },
  {
   "cell_type": "markdown",
   "id": "9d314451-1a82-4d81-bf33-82ab7f549f4e",
   "metadata": {},
   "source": [
    "<!--Returning the copy of the list-->"
   ]
  },
  {
   "cell_type": "code",
   "execution_count": 50,
   "id": "daa5dae8-e9fc-4692-a33c-57d45e68c06f",
   "metadata": {},
   "outputs": [
    {
     "name": "stdout",
     "output_type": "stream",
     "text": [
      "l5: ['Java', 'C', 'C++', 'HTML', 'CSS', 'XML']\n"
     ]
    }
   ],
   "source": [
    "l4=['Java', 'C', 'C++', 'HTML', 'CSS', 'XML']\n",
    "l5=l4.copy( )\n",
    "print('l5:', l5)"
   ]
  },
  {
   "cell_type": "markdown",
   "id": "ecc8eadb-9304-4356-b449-4e17412dee4c",
   "metadata": {},
   "source": [
    "### count()"
   ]
  },
  {
   "cell_type": "markdown",
   "id": "aec34c30-d259-4ba1-9e75-49a69b944321",
   "metadata": {},
   "source": [
    "<!--Returning number of times the particular element appears in the list-->"
   ]
  },
  {
   "cell_type": "code",
   "execution_count": 15,
   "id": "65a9bf20-6ef4-4715-8e41-fa9b471d4c54",
   "metadata": {},
   "outputs": [
    {
     "name": "stdout",
     "output_type": "stream",
     "text": [
      "1\n"
     ]
    }
   ],
   "source": [
    "l6=['Apple', 'Mango', 'Grapes', 'Watermelo', 'Pomegranat']\n",
    "x= l6.count('Mango')\n",
    "print(x)"
   ]
  },
  {
   "cell_type": "markdown",
   "id": "fb427f68-1e30-4d5a-8f51-e4d06cddf21c",
   "metadata": {},
   "source": [
    "### extend"
   ]
  },
  {
   "cell_type": "markdown",
   "id": "06ffab1a-3b3a-4cce-a46a-668363a4d0c1",
   "metadata": {},
   "source": [
    "<!--Adding elements of a list at the end of other list-->"
   ]
  },
  {
   "cell_type": "code",
   "execution_count": 18,
   "id": "ac9a113e-e176-467f-844b-355276e834c9",
   "metadata": {},
   "outputs": [
    {
     "name": "stdout",
     "output_type": "stream",
     "text": [
      "l7: ['India', 'America', 'Australia', 'Japan', 'France', 'Brazil']\n",
      "l7: ['India', 'America', 'Australia', 'Japan', 'France', 'Brazil', 1, 2, 3, 4, 5]\n"
     ]
    }
   ],
   "source": [
    "l7=['India', 'America', 'Australia']\n",
    "l8=['Japan', 'France', 'Brazil']\n",
    "l7.extend(l8)\n",
    "print('l7:',l7)\n",
    "l9=(1, 2, 3, 4, 5)\n",
    "l7.extend(l9)\n",
    "print('l7:',l7)"
   ]
  },
  {
   "cell_type": "markdown",
   "id": "b0706aa7-82b3-431a-bcda-9bb7ef86197b",
   "metadata": {},
   "source": [
    "### index()"
   ]
  },
  {
   "cell_type": "markdown",
   "id": "5e67dbd5-d1ba-4b26-8427-68dedacef9fe",
   "metadata": {},
   "source": [
    "<!--Returning the position for the first occurrence of the particular element-->"
   ]
  },
  {
   "cell_type": "code",
   "execution_count": 22,
   "id": "f6c8e75b-defe-45b6-a384-23f904e8b850",
   "metadata": {},
   "outputs": [
    {
     "name": "stdout",
     "output_type": "stream",
     "text": [
      "Index of D: 3\n"
     ]
    }
   ],
   "source": [
    "l10=['A', 'B', 'C', 'D', 'E', 'F']\n",
    "x=l10.index('D')\n",
    "print('Index of D:',x)"
   ]
  },
  {
   "cell_type": "markdown",
   "id": "95ff234a-a50e-4ef4-aefd-a31a3c9c15a6",
   "metadata": {},
   "source": [
    "### insert()"
   ]
  },
  {
   "cell_type": "markdown",
   "id": "6c86e23e-803d-4475-8897-921b8b364885",
   "metadata": {},
   "source": [
    "<!--Adding an element at the particular position-->"
   ]
  },
  {
   "cell_type": "code",
   "execution_count": 43,
   "id": "01158cda-f641-4d2f-ac29-30ff921d268b",
   "metadata": {},
   "outputs": [
    {
     "name": "stdout",
     "output_type": "stream",
     "text": [
      "l11: ['Yellow', 'Purple', 'Orange', 'Green', 'Blue']\n"
     ]
    }
   ],
   "source": [
    "l11=['Yellow', 'Orange', 'Green', 'Blue']\n",
    "l11.insert(1,'Purple')\n",
    "print('l11:',l11)"
   ]
  },
  {
   "cell_type": "markdown",
   "id": "03ecd52b-8f74-4ab4-8009-57c4f993391d",
   "metadata": {},
   "source": [
    "### pop()"
   ]
  },
  {
   "cell_type": "markdown",
   "id": "9fa9736e-5960-4a6f-8e88-fab6d2560999",
   "metadata": {},
   "source": [
    "<!--Removing an element from particular position-->"
   ]
  },
  {
   "cell_type": "code",
   "execution_count": 45,
   "id": "e74605cd-ab68-4946-8e20-b86971a6ea7c",
   "metadata": {},
   "outputs": [
    {
     "name": "stdout",
     "output_type": "stream",
     "text": [
      "l12: ['Infant', 'Kids', 'Teens']\n"
     ]
    }
   ],
   "source": [
    "l12=['Infant', 'Toddler', 'Kids', 'Teens']\n",
    "l12.pop(1)\n",
    "print('l12:',l12)"
   ]
  },
  {
   "cell_type": "markdown",
   "id": "780f3e00-2e1f-4799-a5ca-19af0c16b600",
   "metadata": {},
   "source": [
    "<!--Returning the element which has been removed through pop operation-->"
   ]
  },
  {
   "cell_type": "code",
   "execution_count": 42,
   "id": "3e2207cd-7215-487b-99ec-c2215ab5a71d",
   "metadata": {},
   "outputs": [
    {
     "name": "stdout",
     "output_type": "stream",
     "text": [
      "x: Toddler\n"
     ]
    }
   ],
   "source": [
    "l12=['Infant', 'Toddler', 'Kids', 'Teens']\n",
    "x=l12.pop(1)\n",
    "print('x:',x)"
   ]
  },
  {
   "cell_type": "markdown",
   "id": "5f1bb87e-0979-44a5-867d-54dabe3d95b3",
   "metadata": {},
   "source": [
    "### remove()"
   ]
  },
  {
   "cell_type": "markdown",
   "id": "3cdc736f-ada6-4178-9da6-fce1aa878f2c",
   "metadata": {},
   "source": [
    "<!--Removing first occurrence of the particular element from the list-->"
   ]
  },
  {
   "cell_type": "code",
   "execution_count": 47,
   "id": "8df0c6be-7c4d-4c30-8a12-b5a1d05dcea9",
   "metadata": {},
   "outputs": [
    {
     "name": "stdout",
     "output_type": "stream",
     "text": [
      "l13: ['First', 'Third']\n"
     ]
    }
   ],
   "source": [
    "l13=['First', 'Second', 'Third']\n",
    "l13.remove('Second')\n",
    "print('l13:',l13)"
   ]
  },
  {
   "cell_type": "markdown",
   "id": "247e6925-5475-4007-a79a-a2b5268e8b53",
   "metadata": {},
   "source": [
    "### reverse()"
   ]
  },
  {
   "cell_type": "markdown",
   "id": "b6316cbe-4726-47ff-ae19-20c444767872",
   "metadata": {},
   "source": [
    "<!--Reversing the order of a list-->  "
   ]
  },
  {
   "cell_type": "code",
   "execution_count": 49,
   "id": "0bbd66c2-0430-4481-b21a-e95725416a27",
   "metadata": {},
   "outputs": [
    {
     "name": "stdout",
     "output_type": "stream",
     "text": [
      "l14: ['Giraffe', 'Lion', 'Elephant']\n"
     ]
    }
   ],
   "source": [
    "l14=['Elephant', 'Lion', 'Giraffe']\n",
    "l14.reverse()\n",
    "print('l14:',l14)"
   ]
  },
  {
   "cell_type": "markdown",
   "id": "e4fb0466-a4fc-49da-b1a5-8c4355e402c7",
   "metadata": {},
   "source": [
    "### sort()"
   ]
  },
  {
   "cell_type": "markdown",
   "id": "69ba436f-cbc8-4b84-bc9f-c797792394dc",
   "metadata": {},
   "source": [
    "<!--Sorting the list in ascending order-->  "
   ]
  },
  {
   "cell_type": "code",
   "execution_count": 58,
   "id": "f707eeed-06ac-4899-9b89-769088b4fa3a",
   "metadata": {},
   "outputs": [
    {
     "name": "stdout",
     "output_type": "stream",
     "text": [
      "l15: ['Ajio', 'Amazon', 'Flipkart', 'Myntra']\n"
     ]
    }
   ],
   "source": [
    "l15=['Myntra', 'Flipkart', 'Amazon', 'Ajio']\n",
    "l15.sort()\n",
    "print('l15:',l15)"
   ]
  },
  {
   "cell_type": "markdown",
   "id": "27cc1369-4507-430e-b120-603fe8f3d095",
   "metadata": {},
   "source": [
    "<!--Sorting the list in descending order-->  "
   ]
  },
  {
   "cell_type": "code",
   "execution_count": 57,
   "id": "9568a6cd-90a2-4481-91bc-e48d1325b556",
   "metadata": {},
   "outputs": [
    {
     "name": "stdout",
     "output_type": "stream",
     "text": [
      "l16: ['Myntra', 'Flipkart', 'Amazon', 'Ajio']\n"
     ]
    }
   ],
   "source": [
    "l16=['Flipkart', 'Ajio', 'Amazon', 'Myntra']\n",
    "l16.sort(reverse=True)\n",
    "print('l16:',l16)"
   ]
  },
  {
   "cell_type": "code",
   "execution_count": null,
   "id": "1b47eac9-e49d-4b23-a5cf-90a51bdb6c89",
   "metadata": {},
   "outputs": [],
   "source": []
  }
 ],
 "metadata": {
  "kernelspec": {
   "display_name": "Python 3 (ipykernel)",
   "language": "python",
   "name": "python3"
  },
  "language_info": {
   "codemirror_mode": {
    "name": "ipython",
    "version": 3
   },
   "file_extension": ".py",
   "mimetype": "text/x-python",
   "name": "python",
   "nbconvert_exporter": "python",
   "pygments_lexer": "ipython3",
   "version": "3.11.7"
  }
 },
 "nbformat": 4,
 "nbformat_minor": 5
}
