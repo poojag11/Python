{
 "cells": [
  {
   "cell_type": "markdown",
   "metadata": {},
   "source": [
    "#### First Program"
   ]
  },
  {
   "cell_type": "code",
   "execution_count": 4,
   "metadata": {},
   "outputs": [
    {
     "name": "stdout",
     "output_type": "stream",
     "text": [
      "     *\n",
      "    ***\n",
      "   *****\n",
      "  *******\n",
      " *********\n",
      "***********\n"
     ]
    }
   ],
   "source": [
    "row=1\n",
    "i='*'\n",
    "while row<=6:\n",
    "    sp=5\n",
    "    while sp>=row:\n",
    "        print(\" \",end=\"\")\n",
    "        sp-=1\n",
    "    print(i)\n",
    "    i+='**'\n",
    "    row+=1"
   ]
  },
  {
   "cell_type": "markdown",
   "metadata": {},
   "source": [
    "#### Second Program"
   ]
  },
  {
   "cell_type": "code",
   "execution_count": 6,
   "metadata": {},
   "outputs": [
    {
     "name": "stdout",
     "output_type": "stream",
     "text": [
      "          *\n",
      "        * * *\n",
      "      * * * * *\n",
      "    * * * * * * *\n",
      "  * * * * * * * * *\n",
      "* * * * * * * * * * *\n"
     ]
    }
   ],
   "source": [
    "row=1\n",
    "i='*'\n",
    "while row<=6:\n",
    "    sp=5\n",
    "    while sp>=row:\n",
    "        print(\" \",end=\" \")\n",
    "        sp-=1\n",
    "    print(i)\n",
    "    i+=' * *'\n",
    "    row+=1\n"
   ]
  },
  {
   "cell_type": "markdown",
   "metadata": {},
   "source": [
    "#### Third Program"
   ]
  },
  {
   "cell_type": "code",
   "execution_count": 5,
   "metadata": {},
   "outputs": [
    {
     "name": "stdout",
     "output_type": "stream",
     "text": [
      "          *\n",
      "        * * *\n",
      "      * * * * *\n",
      "    * * * * * * *\n",
      "  * * * * * * * * *\n",
      "* * * * * * * * * * *\n"
     ]
    }
   ],
   "source": [
    "def prd(n):\n",
    "    i='*'\n",
    "    for row in range(n):\n",
    "        for sp in reversed(range(n-row-1)):\n",
    "            print(\" \",end=\" \")\n",
    "        print(i)\n",
    "        i+=' * *'\n",
    "prd(6)"
   ]
  }
 ],
 "metadata": {
  "kernelspec": {
   "display_name": "Python 3",
   "language": "python",
   "name": "python3"
  },
  "language_info": {
   "codemirror_mode": {
    "name": "ipython",
    "version": 3
   },
   "file_extension": ".py",
   "mimetype": "text/x-python",
   "name": "python",
   "nbconvert_exporter": "python",
   "pygments_lexer": "ipython3",
   "version": "3.12.4"
  }
 },
 "nbformat": 4,
 "nbformat_minor": 2
}
