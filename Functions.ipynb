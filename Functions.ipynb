{
 "cells": [
  {
   "cell_type": "markdown",
   "metadata": {},
   "source": [
    "#### Function for addition of two numbers"
   ]
  },
  {
   "cell_type": "code",
   "execution_count": 2,
   "metadata": {},
   "outputs": [
    {
     "name": "stdout",
     "output_type": "stream",
     "text": [
      "Addition of two values v1 and v2 = 12 + 27 = 39\n"
     ]
    }
   ],
   "source": [
    "def addValues(v1,v2,op):\n",
    "    result = v1 + v2\n",
    "    print('{} of two values v1 and v2 = {} + {} = {}'.format(op,v1,v2,result))\n",
    "\n",
    "addValues(12,27,'Addition')"
   ]
  },
  {
   "cell_type": "markdown",
   "metadata": {},
   "source": [
    "#### Function for subtraction of two numbers"
   ]
  },
  {
   "cell_type": "code",
   "execution_count": 1,
   "metadata": {},
   "outputs": [
    {
     "name": "stdout",
     "output_type": "stream",
     "text": [
      "Subtraction of two values v1 and v2 = 97 - 12 = 85\n"
     ]
    }
   ],
   "source": [
    "def subtractValues(v1,v2,op):\n",
    "    result = v1 - v2\n",
    "    print(f'{op} of two values v1 and v2 = {v1} - {v2} = {result}')\n",
    "\n",
    "subtractValues(97,12,'Subtraction')"
   ]
  },
  {
   "cell_type": "markdown",
   "metadata": {},
   "source": [
    "#### Function for multiplication of two numbers"
   ]
  },
  {
   "cell_type": "code",
   "execution_count": 23,
   "metadata": {},
   "outputs": [],
   "source": [
    "def multiplytValues(v1,v2,op):\n",
    "    result=v1*v2\n",
    "    print(f'result is the output of {op} between {v1} and {v2}')\n",
    "    return result"
   ]
  },
  {
   "cell_type": "code",
   "execution_count": 25,
   "metadata": {},
   "outputs": [
    {
     "name": "stdout",
     "output_type": "stream",
     "text": [
      "result is the output of Multiplication between 42 and 36\n",
      "result = 1512\n"
     ]
    }
   ],
   "source": [
    "result=multiplytValues(42,36,'Multiplication')\n",
    "\n",
    "print('result =', result)"
   ]
  },
  {
   "cell_type": "markdown",
   "metadata": {},
   "source": [
    "#### Function for division of two numbers"
   ]
  },
  {
   "cell_type": "code",
   "execution_count": 28,
   "metadata": {},
   "outputs": [],
   "source": [
    "def dividetValues(v1,v2,op):\n",
    "    result=v1/v2\n",
    "    print(f'result is the output of {op} between {v1} and {v2}')\n",
    "    return result"
   ]
  },
  {
   "cell_type": "code",
   "execution_count": 29,
   "metadata": {},
   "outputs": [
    {
     "name": "stdout",
     "output_type": "stream",
     "text": [
      "result is the output of Division between 225 and 9\n",
      "result = 25.0\n"
     ]
    }
   ],
   "source": [
    "result=dividetValues(225,9,'Division')\n",
    "\n",
    "print('result =', result)"
   ]
  },
  {
   "cell_type": "markdown",
   "metadata": {},
   "source": [
    "#### Function comparing two values with greater than operator"
   ]
  },
  {
   "cell_type": "code",
   "execution_count": 36,
   "metadata": {},
   "outputs": [
    {
     "name": "stdout",
     "output_type": "stream",
     "text": [
      "289 is greater than 128 : True\n"
     ]
    }
   ],
   "source": [
    "def checkValues(v1,v2):\n",
    "    x= v1 > v2\n",
    "    print(f'{v1} is greater than {v2} : {x}')\n",
    "\n",
    "checkValues(289,128)"
   ]
  }
 ],
 "metadata": {
  "kernelspec": {
   "display_name": "Python 3",
   "language": "python",
   "name": "python3"
  },
  "language_info": {
   "codemirror_mode": {
    "name": "ipython",
    "version": 3
   },
   "file_extension": ".py",
   "mimetype": "text/x-python",
   "name": "python",
   "nbconvert_exporter": "python",
   "pygments_lexer": "ipython3",
   "version": "3.12.4"
  }
 },
 "nbformat": 4,
 "nbformat_minor": 2
}
