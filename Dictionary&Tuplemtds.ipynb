{
 "cells": [
  {
   "cell_type": "markdown",
   "metadata": {},
   "source": [
    "## Dictionary Methods"
   ]
  },
  {
   "cell_type": "markdown",
   "metadata": {},
   "source": [
    "### clear()"
   ]
  },
  {
   "cell_type": "markdown",
   "metadata": {},
   "source": [
    "Removing all the elements from the 'Person' dictionary"
   ]
  },
  {
   "cell_type": "code",
   "execution_count": 18,
   "metadata": {},
   "outputs": [
    {
     "name": "stdout",
     "output_type": "stream",
     "text": [
      "{'First_name': 'Joe', 'Last_name': 'Fonebone', 'age': 51, 'spouse': 'Edna', 'children': ['Ralph', 'Betty', 'Joey'], 'pets': {'dog': 'Fido', 'cat': 'Sox'}}\n"
     ]
    }
   ],
   "source": [
    "Person = {\n",
    "'First_name' : 'Joe',  \n",
    "'Last_name' : 'Fonebone',  \n",
    "'age' : 51, \n",
    "'spouse' : 'Edna', \n",
    "'children' : ['Ralph', 'Betty', 'Joey'], \n",
    "'pets' : {'dog': 'Fido', 'cat': 'Sox'}\n",
    "}\n",
    "\n",
    "print(Person)"
   ]
  },
  {
   "cell_type": "code",
   "execution_count": 19,
   "metadata": {},
   "outputs": [
    {
     "name": "stdout",
     "output_type": "stream",
     "text": [
      "{}\n"
     ]
    }
   ],
   "source": [
    "Person.clear()\n",
    "\n",
    "print(Person)"
   ]
  },
  {
   "cell_type": "markdown",
   "metadata": {},
   "source": [
    "### copy()"
   ]
  },
  {
   "cell_type": "markdown",
   "metadata": {},
   "source": [
    "Copying 'Student' dictionary to 'Stdn' dictionary"
   ]
  },
  {
   "cell_type": "code",
   "execution_count": 9,
   "metadata": {},
   "outputs": [
    {
     "name": "stdout",
     "output_type": "stream",
     "text": [
      "{'Roll_No.': 2451, 'Name': 'Jose Smith', 'Class': '10th Std', 'Section': 'A', 'Class_Teacher': 'Miss. Olivia Watson', 'DOB': '11/12/2008'}\n"
     ]
    }
   ],
   "source": [
    "Student = {\n",
    "'Roll_No.' : 2451,\n",
    "'Name' : 'Jose Smith',\n",
    "'Class' : '10th Std',\n",
    "'Section' : 'A',\n",
    "'Class_Teacher' :  'Miss. Olivia Watson',\n",
    "'DOB' : '11/12/2008'\n",
    "}\n",
    "\n",
    "print(Student)"
   ]
  },
  {
   "cell_type": "code",
   "execution_count": 21,
   "metadata": {},
   "outputs": [
    {
     "name": "stdout",
     "output_type": "stream",
     "text": [
      "{'Roll_No.': 2451, 'Name': 'Jose Smith', 'Class': '10th Std', 'Class_Teacher': 'Miss. Olivia Watson', 'DOB': '11/12/2008'}\n"
     ]
    }
   ],
   "source": [
    "Stdn=Student.copy()\n",
    "\n",
    "print(Stdn)"
   ]
  },
  {
   "cell_type": "markdown",
   "metadata": {},
   "source": [
    "### fromkeys()"
   ]
  },
  {
   "cell_type": "markdown",
   "metadata": {},
   "source": [
    "Creating dictionary with three keys & assigning them a specified value"
   ]
  },
  {
   "cell_type": "code",
   "execution_count": 28,
   "metadata": {},
   "outputs": [],
   "source": [
    "a=('a1', 'a2', 'a3')\n",
    "b=1"
   ]
  },
  {
   "cell_type": "code",
   "execution_count": 29,
   "metadata": {},
   "outputs": [
    {
     "name": "stdout",
     "output_type": "stream",
     "text": [
      "{'a1': 1, 'a2': 1, 'a3': 1}\n"
     ]
    }
   ],
   "source": [
    "newdict=dict.fromkeys(a,b)\n",
    "\n",
    "print(newdict)"
   ]
  },
  {
   "cell_type": "markdown",
   "metadata": {},
   "source": [
    "### get()"
   ]
  },
  {
   "cell_type": "markdown",
   "metadata": {},
   "source": [
    "Getting the value of the particular key"
   ]
  },
  {
   "cell_type": "code",
   "execution_count": 5,
   "metadata": {},
   "outputs": [
    {
     "name": "stdout",
     "output_type": "stream",
     "text": [
      "{'brand': 'Ford', 'model': 'Mustang', 'year': '1964'}\n"
     ]
    }
   ],
   "source": [
    "Car = {\n",
    "'brand' : 'Ford',\n",
    "'model' : 'Mustang',\n",
    "'year'  : '1964'\n",
    "}\n",
    "\n",
    "print(Car)"
   ]
  },
  {
   "cell_type": "code",
   "execution_count": 7,
   "metadata": {},
   "outputs": [
    {
     "name": "stdout",
     "output_type": "stream",
     "text": [
      "Mustang\n",
      "None\n"
     ]
    }
   ],
   "source": [
    "print(Car.get('model'))\n",
    "\n",
    "# Key \"color\" not found in Car\n",
    "print(Car.get('color'))"
   ]
  },
  {
   "cell_type": "code",
   "execution_count": 52,
   "metadata": {},
   "outputs": [
    {
     "name": "stdout",
     "output_type": "stream",
     "text": [
      "65,00000\n"
     ]
    }
   ],
   "source": [
    "# Returning the default value for the key which is not found in the dictionary rather that returning none \n",
    "\n",
    "print(Car.get('price', '65,00000'))"
   ]
  },
  {
   "cell_type": "markdown",
   "metadata": {},
   "source": [
    "### items()"
   ]
  },
  {
   "cell_type": "markdown",
   "metadata": {},
   "source": [
    "Returning the key-value pair of Hospiatl 'dictionary'"
   ]
  },
  {
   "cell_type": "code",
   "execution_count": 12,
   "metadata": {},
   "outputs": [
    {
     "name": "stdout",
     "output_type": "stream",
     "text": [
      "{'Name': 'Lifeshades Hospital', 'Address': '13th Street, 47 W, VA 22041', 'Phone_No.': '8449235878', 'Email': 'info@lifeshades.com'}\n"
     ]
    }
   ],
   "source": [
    "Hospiatl = {\n",
    "'Name' : 'Lifeshades Hospital',\n",
    "'Address' : '13th Street, 47 W, VA 22041',\n",
    "'Phone_No.' : 8449235878,\n",
    "'Email' : 'info@lifeshades.com'\n",
    "}\n",
    "\n",
    "print(Hospiatl)"
   ]
  },
  {
   "cell_type": "code",
   "execution_count": 17,
   "metadata": {},
   "outputs": [
    {
     "name": "stdout",
     "output_type": "stream",
     "text": [
      "dict_items([('Name', 'Lifeshades Hospital'), ('Address', '13th Street, 47 W, VA 22041'), ('Phone_No.', '8449235878'), ('Email', 'info@lifeshades.com')])\n"
     ]
    }
   ],
   "source": [
    "# Returning all existing key-value pair\n",
    "\n",
    "Hp=Hospiatl.items()\n",
    "\n",
    "print(Hp)\n"
   ]
  },
  {
   "cell_type": "code",
   "execution_count": 18,
   "metadata": {},
   "outputs": [
    {
     "name": "stdout",
     "output_type": "stream",
     "text": [
      "dict_items([('Name', 'Lifeshades Hospital'), ('Address', '13th Street, 47 W, VA 22041'), ('Phone_No.', 8449235598), ('Email', 'info@lifeshades.com')])\n"
     ]
    }
   ],
   "source": [
    "# Returning updated key-value pair after changing value for 'Phone_No.' key\n",
    "\n",
    "Hp=Hospiatl.items()\n",
    "\n",
    "Hospiatl['Phone_No.']=8449235598\n",
    "\n",
    "print(Hp)\n"
   ]
  },
  {
   "cell_type": "markdown",
   "metadata": {},
   "source": [
    "### keys()"
   ]
  },
  {
   "cell_type": "markdown",
   "metadata": {},
   "source": [
    "Getting result containg all the keys for 'Doctor' dictionary"
   ]
  },
  {
   "cell_type": "code",
   "execution_count": 29,
   "metadata": {},
   "outputs": [
    {
     "name": "stdout",
     "output_type": "stream",
     "text": [
      "{'Id': '4256', 'First_name': 'Mike', 'Last_name': 'Hemsworth', 'Specialist': 'Neurologist', 'Hospital': 'Harmony Wellness Center'}\n"
     ]
    }
   ],
   "source": [
    "Doctor = {\n",
    "'Id' : '4256',\n",
    "'First_name' : 'Mike',  \n",
    "'Last_name' : 'Hemsworth',\n",
    "'Specialist' : 'Neurologist',\n",
    "'Hospital' : 'Harmony Wellness Center'\n",
    "}\n",
    "\n",
    "print(Doctor)"
   ]
  },
  {
   "cell_type": "code",
   "execution_count": 16,
   "metadata": {},
   "outputs": [
    {
     "name": "stdout",
     "output_type": "stream",
     "text": [
      "dict_keys(['Id', 'First_name', 'Last_name', 'Specialist', 'Hospital'])\n"
     ]
    }
   ],
   "source": [
    "dockeys=Doctor.keys()\n",
    "\n",
    "print(dockeys)"
   ]
  },
  {
   "cell_type": "markdown",
   "metadata": {},
   "source": [
    "### pop()"
   ]
  },
  {
   "cell_type": "markdown",
   "metadata": {},
   "source": [
    "Removing the specified item from the 'Patient' dictionary"
   ]
  },
  {
   "cell_type": "code",
   "execution_count": 32,
   "metadata": {},
   "outputs": [
    {
     "name": "stdout",
     "output_type": "stream",
     "text": [
      "{'Patient_Id': 23089, 'First_name': 'John', 'Last_name': 'Williams', 'Patient_Address': '132, My Street, Kingston, New York 12401', 'Phone_No.': '3455674455', 'Medical_condition': 'Kidney Failure', 'Patient_type': 'Inpatient'}\n"
     ]
    }
   ],
   "source": [
    "Patient = {\n",
    "'Patient_Id' : 23089,\n",
    "'First_name' : 'John',  \n",
    "'Last_name' : 'Williams',\n",
    "'Patient_Address' : '132, My Street, Kingston, New York 12401',\n",
    "'Phone_No.' : '3455674455',\n",
    "'Medical_condition': 'Kidney Failure',\n",
    "'Patient_type' : 'Inpatient'\n",
    "}\n",
    "\n",
    "print(Patient)"
   ]
  },
  {
   "cell_type": "code",
   "execution_count": 33,
   "metadata": {},
   "outputs": [
    {
     "name": "stdout",
     "output_type": "stream",
     "text": [
      "{'Patient_Id': 23089, 'First_name': 'John', 'Last_name': 'Williams', 'Patient_Address': '132, My Street, Kingston, New York 12401', 'Phone_No.': '3455674455', 'Medical_condition': 'Kidney Failure'}\n"
     ]
    }
   ],
   "source": [
    "# Removing the key 'Patient_type' from the dictionary\n",
    "\n",
    "Patient.pop('Patient_type')\n",
    "\n",
    "print(Patient)"
   ]
  },
  {
   "cell_type": "code",
   "execution_count": 36,
   "metadata": {},
   "outputs": [
    {
     "name": "stdout",
     "output_type": "stream",
     "text": [
      "Inpatient\n"
     ]
    }
   ],
   "source": [
    "# Getting the value of the removed item\n",
    "\n",
    "Patient = {\n",
    "'Patient_Id' : 23089,\n",
    "'First_name' : 'John',  \n",
    "'Last_name' : 'Williams',\n",
    "'Patient_Address' : '132, My Street, Kingston, New York 12401',\n",
    "'Phone_No.' : '3455674455',\n",
    "'Medical_condition': 'Kidney Failure',\n",
    "'Patient_type' : 'Inpatient'\n",
    "}\n",
    "\n",
    "removedValue=Patient.pop('Patient_type')\n",
    "\n",
    "print(removedValue)"
   ]
  },
  {
   "cell_type": "markdown",
   "metadata": {},
   "source": [
    "### popitem()"
   ]
  },
  {
   "cell_type": "markdown",
   "metadata": {},
   "source": [
    "Removing the last item from 'Employee' dictionary"
   ]
  },
  {
   "cell_type": "code",
   "execution_count": 44,
   "metadata": {},
   "outputs": [
    {
     "name": "stdout",
     "output_type": "stream",
     "text": [
      "{'Employee_Id': 259768, 'First_name': 'Kim', 'Last_name': 'Anderson', 'Designation': 'Software Engineer', 'Company': 'Trek Tech Corporation'}\n"
     ]
    }
   ],
   "source": [
    "Employee = {\n",
    "'Employee_Id' : 259768,\n",
    "'First_name' : 'Kim',  \n",
    "'Last_name' : 'Anderson',\n",
    "'Designation' : 'Software Engineer',\n",
    "'Company' : 'Trek Tech Corporation'\n",
    "}\n",
    "\n",
    "print(Employee)\n"
   ]
  },
  {
   "cell_type": "code",
   "execution_count": 45,
   "metadata": {},
   "outputs": [
    {
     "name": "stdout",
     "output_type": "stream",
     "text": [
      "{'Employee_Id': 259768, 'First_name': 'Kim', 'Last_name': 'Anderson', 'Designation': 'Software Engineer'}\n"
     ]
    }
   ],
   "source": [
    "Employee.popitem()\n",
    "\n",
    "print(Employee)"
   ]
  },
  {
   "cell_type": "markdown",
   "metadata": {},
   "source": [
    "### setdefault()"
   ]
  },
  {
   "cell_type": "markdown",
   "metadata": {},
   "source": [
    "Getting the value for 'School' key in the dictionary"
   ]
  },
  {
   "cell_type": "code",
   "execution_count": 47,
   "metadata": {},
   "outputs": [
    {
     "name": "stdout",
     "output_type": "stream",
     "text": [
      "{'Id': 25489, 'First_name': 'Kristine', 'Last_name': 'Fox', 'Subject_taught': 'English', 'Level': 'Level 1', 'School': 'Jefferson Elementary School'}\n"
     ]
    }
   ],
   "source": [
    "Teacher = {\n",
    "'Id' : 25489,\n",
    "'First_name' : 'Kristine',  \n",
    "'Last_name' : 'Fox',\n",
    "'Subject_taught' : 'English',\n",
    "'Level' : 'Level 1',\n",
    "'School' : 'Jefferson Elementary School'\n",
    "}\n",
    "\n",
    "print(Teacher)"
   ]
  },
  {
   "cell_type": "code",
   "execution_count": 48,
   "metadata": {},
   "outputs": [
    {
     "name": "stdout",
     "output_type": "stream",
     "text": [
      "Jefferson Elementary School\n"
     ]
    }
   ],
   "source": [
    "t=Teacher.setdefault('School')\n",
    "\n",
    "print(t)"
   ]
  },
  {
   "cell_type": "code",
   "execution_count": 54,
   "metadata": {},
   "outputs": [
    {
     "name": "stdout",
     "output_type": "stream",
     "text": [
      "Elementary Teacher\n"
     ]
    }
   ],
   "source": [
    "# Getting the value for newly inserting key 'Title' & its corresponding value 'Elementary Teacher' in the dictionary\n",
    "\n",
    "t=Teacher.setdefault('Title', 'Elementary Teacher')\n",
    "\n",
    "print(t)\n"
   ]
  },
  {
   "cell_type": "code",
   "execution_count": 51,
   "metadata": {},
   "outputs": [
    {
     "name": "stdout",
     "output_type": "stream",
     "text": [
      "{'Id': 25489, 'First_name': 'Kristine', 'Last_name': 'Fox', 'Subject_taught': 'English', 'Level': 'Level 1', 'School': 'Jefferson Elementary School', 'Title': 'Elementary Teacher'}\n"
     ]
    }
   ],
   "source": [
    "# Updated dictionary\n",
    "\n",
    "print(Teacher)"
   ]
  },
  {
   "cell_type": "markdown",
   "metadata": {},
   "source": [
    "### update()"
   ]
  },
  {
   "cell_type": "markdown",
   "metadata": {},
   "source": [
    "Inserting the specified item in the dictionary"
   ]
  },
  {
   "cell_type": "code",
   "execution_count": 55,
   "metadata": {},
   "outputs": [
    {
     "name": "stdout",
     "output_type": "stream",
     "text": [
      "{'House_No.': 132, 'Street_name': '47 W 66th St', 'City': 'Kingston', 'State': 'New York'}\n"
     ]
    }
   ],
   "source": [
    "Address = {\n",
    "'House_No.' : 132,\n",
    "'Street_name' : '47 W 66th St',\n",
    "'City' : 'Kingston',\n",
    "'State' : 'New York'\n",
    "}\n",
    "\n",
    "print(Address)"
   ]
  },
  {
   "cell_type": "code",
   "execution_count": 56,
   "metadata": {},
   "outputs": [
    {
     "name": "stdout",
     "output_type": "stream",
     "text": [
      "{'House_No.': 132, 'Street_name': '47 W 66th St', 'City': 'Kingston', 'State': 'New York', 'Postal_code': 12401}\n"
     ]
    }
   ],
   "source": [
    "Address.update({'Postal_code' : 12401})\n",
    "\n",
    "print(Address)"
   ]
  },
  {
   "cell_type": "markdown",
   "metadata": {},
   "source": [
    "### values()"
   ]
  },
  {
   "cell_type": "markdown",
   "metadata": {},
   "source": [
    "Getting the values for all defined keys in the dictionary"
   ]
  },
  {
   "cell_type": "code",
   "execution_count": 57,
   "metadata": {},
   "outputs": [
    {
     "name": "stdout",
     "output_type": "stream",
     "text": [
      "{1: 'One', 2: 'Two', 3: 'Three', 4: 'Four', 5: 'Five'}\n"
     ]
    }
   ],
   "source": [
    "Numberlist = {\n",
    "1 : 'One',\n",
    "2 : 'Two',\n",
    "3 : 'Three',\n",
    "4 : 'Four',\n",
    "5 : 'Five'\n",
    "}\n",
    "\n",
    "print(Numberlist)"
   ]
  },
  {
   "cell_type": "code",
   "execution_count": 58,
   "metadata": {},
   "outputs": [
    {
     "name": "stdout",
     "output_type": "stream",
     "text": [
      "dict_values(['One', 'Two', 'Three', 'Four', 'Five'])\n"
     ]
    }
   ],
   "source": [
    "Nl=Numberlist.values()\n",
    "\n",
    "print(Nl)"
   ]
  },
  {
   "cell_type": "markdown",
   "metadata": {},
   "source": [
    "## Tuple Methods"
   ]
  },
  {
   "cell_type": "markdown",
   "metadata": {},
   "source": [
    "### count()"
   ]
  },
  {
   "cell_type": "markdown",
   "metadata": {},
   "source": [
    "Returning number of times value 'Yellow' occurred in 'rainbowTuple' tuple"
   ]
  },
  {
   "cell_type": "code",
   "execution_count": 59,
   "metadata": {},
   "outputs": [
    {
     "name": "stdout",
     "output_type": "stream",
     "text": [
      "2\n"
     ]
    }
   ],
   "source": [
    "rainbowTuple = ('Red', 'Orange', 'Yellow','Green', 'Blue', 'Indigo', 'Violet', 'Yellow')\n",
    "\n",
    "rt= rainbowTuple.count('Yellow')\n",
    "\n",
    "print(rt)"
   ]
  },
  {
   "cell_type": "markdown",
   "metadata": {},
   "source": [
    "### index()"
   ]
  },
  {
   "cell_type": "markdown",
   "metadata": {},
   "source": [
    "Returning the index of the first occurrence of the value 5"
   ]
  },
  {
   "cell_type": "code",
   "execution_count": 63,
   "metadata": {},
   "outputs": [
    {
     "name": "stdout",
     "output_type": "stream",
     "text": [
      "(1, 2, 3, 4, 5, 8, 5, 4, 8, 2)\n"
     ]
    }
   ],
   "source": [
    "numlist = (1,2,3,4,5,8,5,4,8,2)\n",
    "\n",
    "print(numlist)"
   ]
  },
  {
   "cell_type": "code",
   "execution_count": 64,
   "metadata": {},
   "outputs": [
    {
     "name": "stdout",
     "output_type": "stream",
     "text": [
      "4\n"
     ]
    }
   ],
   "source": [
    "nl=numlist.index(5)\n",
    "\n",
    "print(nl)"
   ]
  }
 ],
 "metadata": {
  "kernelspec": {
   "display_name": "Python 3",
   "language": "python",
   "name": "python3"
  },
  "language_info": {
   "codemirror_mode": {
    "name": "ipython",
    "version": 3
   },
   "file_extension": ".py",
   "mimetype": "text/x-python",
   "name": "python",
   "nbconvert_exporter": "python",
   "pygments_lexer": "ipython3",
   "version": "3.12.4"
  }
 },
 "nbformat": 4,
 "nbformat_minor": 2
}
